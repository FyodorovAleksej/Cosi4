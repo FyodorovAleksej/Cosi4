{
 "cells": [
  {
   "cell_type": "code",
   "execution_count": 1,
   "metadata": {},
   "outputs": [],
   "source": [
    "from ney_parser import imageParser as imp\n",
    "from ney_parser import noiseGenerator as ng\n",
    "from perceptron import neyronLayerBuilder as nlb\n",
    "from IPython.display import Image\n",
    "from IPython.core.display import HTML \n",
    "from IPython.core.display import Image, display\n",
    "import starter\n",
    "\n",
    "\n",
    "N = 36\n",
    "H = 30\n",
    "M = 5\n",
    "\n",
    "ALPHA = 1\n",
    "BETA = 1\n",
    "D = 0.01\n",
    "\n",
    "learnShapesFiles = [\"./patterns/pattern\" + str(i) + \".png\" for i in range(1, 6)]\n",
    "noises = [5, 10, 15]\n",
    "count = 1\n",
    "\n",
    "learnShapesY = [\n",
    "    [1, 0, 0, 0, 0],\n",
    "    [0, 1, 0, 0, 0],\n",
    "    [0, 0, 1, 0, 0],\n",
    "    [0, 0, 0, 1, 0],\n",
    "    [0, 0, 0, 0, 1]\n",
    "]"
   ]
  },
  {
   "cell_type": "code",
   "execution_count": 2,
   "metadata": {},
   "outputs": [
    {
     "name": "stdout",
     "output_type": "stream",
     "text": [
      "reset values? [y/n]\n",
      "n\n",
      "N = \n",
      "36\n",
      "H = \n",
      "30\n",
      "M = \n",
      "5\n",
      "ALPHA = \n",
      "1\n",
      "BETA = \n",
      "1\n",
      "D = \n",
      "0.01\n"
     ]
    }
   ],
   "source": [
    "print(\"reset values? [y/n]\")\n",
    "choise = input()\n",
    "if \"y\" in choise:\n",
    "    print(\"input new H:\")\n",
    "    H = int(input())\n",
    "    print(\"input new ALPHA:\")\n",
    "    ALPHA = float(input())\n",
    "    print(\"input new BETA:\")\n",
    "    BETA = float(input())\n",
    "    print(\"input new D:\")\n",
    "    D = float(input())\n",
    "print(\"N = \")\n",
    "print(N)\n",
    "print(\"H = \")\n",
    "print(H)\n",
    "print(\"M = \")\n",
    "print(M)\n",
    "print(\"ALPHA = \")\n",
    "print(ALPHA)\n",
    "print(\"BETA = \")\n",
    "print(BETA)\n",
    "print(\"D = \")\n",
    "print(D)"
   ]
  },
  {
   "cell_type": "code",
   "execution_count": 3,
   "metadata": {},
   "outputs": [
    {
     "name": "stdout",
     "output_type": "stream",
     "text": [
      "regenerate noises? [y/n]\n",
      "y\n"
     ]
    }
   ],
   "source": [
    "print(\"regenerate noises? [y/n]\")\n",
    "choise = input()\n",
    "if \"y\" in choise:\n",
    "    testShapesFiles = starter.generate_noise(learnShapesFiles, count, noises)\n",
    "else:\n",
    "    testShapesFiles = []\n",
    "    for origin in learnShapesFiles:\n",
    "        for i in noises:\n",
    "            outGen = \"./test_images/\" + origin.rsplit(\".\")[1].split(\"/\")[-1] + \"_\" + str(i) + \"_\"\n",
    "            for j in range(0, count):\n",
    "                testShapesFiles.append(outGen + str(j) + \".png\")"
   ]
  },
  {
   "cell_type": "code",
   "execution_count": 4,
   "metadata": {},
   "outputs": [
    {
     "data": {
      "image/png": "[encoded data removed]",
      "text/plain": [
       "<IPython.core.display.Image object>"
      ]
     },
     "metadata": {
      "image/png": {
       "height": 100,
       "width": 100
      }
     },
     "output_type": "display_data"
    },
    {
     "data": {
      "image/png": "[encoded data removed]",
      "text/plain": [
       "<IPython.core.display.Image object>"
      ]
     },
     "metadata": {
      "image/png": {
       "height": 100,
       "width": 100
      }
     },
     "output_type": "display_data"
    },
    {
     "data": {
      "image/png": "[encoded data removed]",
      "text/plain": [
       "<IPython.core.display.Image object>"
      ]
     },
     "metadata": {
      "image/png": {
       "height": 100,
       "width": 100
      }
     },
     "output_type": "display_data"
    },
    {
     "data": {
      "image/png": "[encoded data removed]",
      "text/plain": [
       "<IPython.core.display.Image object>"
      ]
     },
     "metadata": {
      "image/png": {
       "height": 100,
       "width": 100
      }
     },
     "output_type": "display_data"
    },
    {
     "data": {
      "image/png": "[encoded data removed]",
      "text/plain": [
       "<IPython.core.display.Image object>"
      ]
     },
     "metadata": {
      "image/png": {
       "height": 100,
       "width": 100
      }
     },
     "output_type": "display_data"
    }
   ],
   "source": [
    "for file in learnShapesFiles:\n",
    "    display(Image(filename = file, width=100, height=100))"
   ]
  },
  {
   "cell_type": "code",
   "execution_count": 5,
   "metadata": {},
   "outputs": [
    {
     "name": "stdout",
     "output_type": "stream",
     "text": [
      "TEACH WAS COMPLETE = 370\n",
      "TEACH WAS COMPLETE = 324\n",
      "TEACH WAS COMPLETE = 258\n",
      "TEACH WAS COMPLETE = 304\n",
      "TEACH WAS COMPLETE = 362\n"
     ]
    }
   ],
   "source": [
    "teachShapes = []\n",
    "\n",
    "for fileName in learnShapesFiles:\n",
    "    shape = imp.parse_image_to_shape(fileName)\n",
    "    teachShapes.append(shape)\n",
    "builder = nlb.NeyronLayerBuilder(N, H, M)\n",
    "builder.randomInit(-1, 1)\n",
    "\n",
    "for i in range(0, len(teachShapes)):\n",
    "    builder.teach(teachShapes[i], learnShapesY[i], ALPHA, BETA, D)"
   ]
  },
  {
   "cell_type": "code",
   "execution_count": 6,
   "metadata": {},
   "outputs": [
    {
     "data": {
      "image/png": "[encoded data removed]",
      "text/plain": [
       "<IPython.core.display.Image object>"
      ]
     },
     "metadata": {
      "image/png": {
       "height": 100,
       "width": 100
      }
     },
     "output_type": "display_data"
    },
    {
     "name": "stdout",
     "output_type": "stream",
     "text": [
      "[0.06142605135792123, 0.004179433986802851, 0.0006437755976702416, 0.009511429174057931, 0.09282441153309749]\n"
     ]
    },
    {
     "data": {
      "image/png": "[encoded data removed]",
      "text/plain": [
       "<IPython.core.display.Image object>"
      ]
     },
     "metadata": {
      "image/png": {
       "height": 100,
       "width": 100
      }
     },
     "output_type": "display_data"
    },
    {
     "name": "stdout",
     "output_type": "stream",
     "text": [
      "[0.03809146294148367, 0.0010175872043346455, 0.0021007983175916206, 0.0020824503198522905, 0.05590213831523826]\n"
     ]
    },
    {
     "data": {
      "image/png": "[encoded data removed]",
      "text/plain": [
       "<IPython.core.display.Image object>"
      ]
     },
     "metadata": {
      "image/png": {
       "height": 100,
       "width": 100
      }
     },
     "output_type": "display_data"
    },
    {
     "name": "stdout",
     "output_type": "stream",
     "text": [
      "[0.11256751984870712, 0.0023435026800776187, 0.00034112600095002806, 0.011520401396175486, 0.4082566209387392]\n"
     ]
    },
    {
     "data": {
      "image/png": "[encoded data removed]",
      "text/plain": [
       "<IPython.core.display.Image object>"
      ]
     },
     "metadata": {
      "image/png": {
       "height": 100,
       "width": 100
      }
     },
     "output_type": "display_data"
    },
    {
     "name": "stdout",
     "output_type": "stream",
     "text": [
      "[0.0052999134794690945, 0.3806339059818214, 0.0017854469771928845, 0.0015490437126099426, 0.9497644366612833]\n"
     ]
    },
    {
     "data": {
      "image/png": "[encoded data removed]",
      "text/plain": [
       "<IPython.core.display.Image object>"
      ]
     },
     "metadata": {
      "image/png": {
       "height": 100,
       "width": 100
      }
     },
     "output_type": "display_data"
    },
    {
     "name": "stdout",
     "output_type": "stream",
     "text": [
      "[0.000980611234790239, 0.34721072436215933, 0.010452527800433962, 0.0014117436819191254, 0.4929144764013864]\n"
     ]
    },
    {
     "data": {
      "image/png": "[encoded data removed]",
      "text/plain": [
       "<IPython.core.display.Image object>"
      ]
     },
     "metadata": {
      "image/png": {
       "height": 100,
       "width": 100
      }
     },
     "output_type": "display_data"
    },
    {
     "name": "stdout",
     "output_type": "stream",
     "text": [
      "[0.0005051278050434987, 0.29465176812163624, 0.005003584124180374, 0.001410247467892378, 0.46255460639481916]\n"
     ]
    },
    {
     "data": {
      "image/png": "[encoded data removed]",
      "text/plain": [
       "<IPython.core.display.Image object>"
      ]
     },
     "metadata": {
      "image/png": {
       "height": 100,
       "width": 100
      }
     },
     "output_type": "display_data"
    },
    {
     "name": "stdout",
     "output_type": "stream",
     "text": [
      "[0.001369541074703014, 0.0004174774035994647, 0.7542882313261301, 0.006945999496333687, 0.41389918588731617]\n"
     ]
    },
    {
     "data": {
      "image/png": "[encoded data removed]",
      "text/plain": [
       "<IPython.core.display.Image object>"
      ]
     },
     "metadata": {
      "image/png": {
       "height": 100,
       "width": 100
      }
     },
     "output_type": "display_data"
    },
    {
     "name": "stdout",
     "output_type": "stream",
     "text": [
      "[0.0021335435511116367, 0.00017879982948649318, 0.6245783538188246, 0.016766111576695754, 0.2920992805770064]\n"
     ]
    },
    {
     "data": {
      "image/png": "[encoded data removed]",
      "text/plain": [
       "<IPython.core.display.Image object>"
      ]
     },
     "metadata": {
      "image/png": {
       "height": 100,
       "width": 100
      }
     },
     "output_type": "display_data"
    },
    {
     "name": "stdout",
     "output_type": "stream",
     "text": [
      "[0.003861672399164944, 0.007000228762870307, 0.4303700262942073, 0.090135796467749, 0.5915173532658221]\n"
     ]
    },
    {
     "data": {
      "image/png": "[encoded data removed]",
      "text/plain": [
       "<IPython.core.display.Image object>"
      ]
     },
     "metadata": {
      "image/png": {
       "height": 100,
       "width": 100
      }
     },
     "output_type": "display_data"
    },
    {
     "name": "stdout",
     "output_type": "stream",
     "text": [
      "[0.0033809309928047346, 0.0013904444809419681, 0.0028790912929647114, 0.38173032398812834, 0.9355660088414613]\n"
     ]
    },
    {
     "data": {
      "image/png": "[encoded data removed]",
      "text/plain": [
       "<IPython.core.display.Image object>"
      ]
     },
     "metadata": {
      "image/png": {
       "height": 100,
       "width": 100
      }
     },
     "output_type": "display_data"
    },
    {
     "name": "stdout",
     "output_type": "stream",
     "text": [
      "[0.0033564456918637182, 0.0019380402950297587, 0.0037594813136995102, 0.2122582790035461, 0.8972078522413641]\n"
     ]
    },
    {
     "data": {
      "image/png": "[encoded data removed]",
      "text/plain": [
       "<IPython.core.display.Image object>"
      ]
     },
     "metadata": {
      "image/png": {
       "height": 100,
       "width": 100
      }
     },
     "output_type": "display_data"
    },
    {
     "name": "stdout",
     "output_type": "stream",
     "text": [
      "[0.00122397727411631, 0.0016707634143822367, 0.005721506014420649, 0.13678542711842218, 0.9300065373422005]\n"
     ]
    },
    {
     "data": {
      "image/png": "[encoded data removed]",
      "text/plain": [
       "<IPython.core.display.Image object>"
      ]
     },
     "metadata": {
      "image/png": {
       "height": 100,
       "width": 100
      }
     },
     "output_type": "display_data"
    },
    {
     "name": "stdout",
     "output_type": "stream",
     "text": [
      "[0.0064432871504717295, 0.0077845371011178105, 0.004631637383249068, 0.016298345834001086, 0.9828936520205267]\n"
     ]
    },
    {
     "data": {
      "image/png": "[encoded data removed]",
      "text/plain": [
       "<IPython.core.display.Image object>"
      ]
     },
     "metadata": {
      "image/png": {
       "height": 100,
       "width": 100
      }
     },
     "output_type": "display_data"
    },
    {
     "name": "stdout",
     "output_type": "stream",
     "text": [
      "[0.005555693132808665, 0.09345920314579566, 0.0363372262162022, 0.02786212495966923, 0.9639501450700211]\n"
     ]
    },
    {
     "data": {
      "image/png": "[encoded data removed]",
      "text/plain": [
       "<IPython.core.display.Image object>"
      ]
     },
     "metadata": {
      "image/png": {
       "height": 100,
       "width": 100
      }
     },
     "output_type": "display_data"
    },
    {
     "name": "stdout",
     "output_type": "stream",
     "text": [
      "[0.001869743191731148, 0.015171760091071169, 0.025767467412018605, 0.005329309664478463, 0.9480261365563558]\n"
     ]
    }
   ],
   "source": [
    "layerNetwork = builder.build()\n",
    "\n",
    "for test in testShapesFiles:\n",
    "    display(Image(filename = test, width=100, height=100))\n",
    "    print(layerNetwork.test_shape(imp.parse_image_to_shape(test)))"
   ]
  },
  {
   "cell_type": "code",
   "execution_count": null,
   "metadata": {},
   "outputs": [],
   "source": []
  }
 ],
 "metadata": {
  "kernelspec": {
   "display_name": "Python 3",
   "language": "python",
   "name": "python3"
  },
  "language_info": {
   "codemirror_mode": {
    "name": "ipython",
    "version": 3
   },
   "file_extension": ".py",
   "mimetype": "text/x-python",
   "name": "python",
   "nbconvert_exporter": "python",
   "pygments_lexer": "ipython3",
   "version": "3.6.3"
  }
 },
 "nbformat": 4,
 "nbformat_minor": 2
}
